{
 "cells": [
  {
   "cell_type": "code",
   "execution_count": 4,
   "metadata": {},
   "outputs": [],
   "source": [
    "import emails"
   ]
  },
  {
   "cell_type": "code",
   "execution_count": 5,
   "metadata": {},
   "outputs": [],
   "source": [
    "html_text = '''<p><span style='font-family: \"Lucida Sans Unicode\", \"Lucida Grande\", sans-serif;'>Hey Praj Pandkar,</span></p>\n",
    "<p><span style=\"font-family: 'Lucida Sans Unicode', 'Lucida Grande', sans-serif;\">How are you this is PRAJAKTA,</span></p>\n",
    "<p><span style='font-family: \"Lucida Sans Unicode\", \"Lucida Grande\", sans-serif;'>Thanks</span></p>''' \n",
    "\n",
    "message = emails.html(html=html_text,\n",
    "                      subject=\"YOUR MAIL FROM PYTHON SCRIPT \",\n",
    "                      mail_from=('Praj Pande', 'prajpandkar@gmail.com'))"
   ]
  },
  {
   "cell_type": "code",
   "execution_count": 28,
   "metadata": {},
   "outputs": [],
   "source": [
    "mail_via_python = message.send(to='catop23948@febeks.com',\n",
    "                               smtp={'host':'smtp.gmail.com',\n",
    "                                     'timeout':5, \n",
    "                                     'port':587, \n",
    "                                     'user':'pppande1234@gmail.com', \n",
    "                                     'password':'pande@123',\n",
    "                                     'tls':True})"
   ]
  },
  {
   "cell_type": "code",
   "execution_count": null,
   "metadata": {},
   "outputs": [],
   "source": []
  }
 ],
 "metadata": {
  "kernelspec": {
   "display_name": "Python 3",
   "language": "python",
   "name": "python3"
  },
  "language_info": {
   "codemirror_mode": {
    "name": "ipython",
    "version": 3
   },
   "file_extension": ".py",
   "mimetype": "text/x-python",
   "name": "python",
   "nbconvert_exporter": "python",
   "pygments_lexer": "ipython3",
   "version": "3.8.3"
  }
 },
 "nbformat": 4,
 "nbformat_minor": 4
}
